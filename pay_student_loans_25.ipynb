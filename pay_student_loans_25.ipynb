{
 "cells": [
  {
   "cell_type": "markdown",
   "id": "48fb58f4",
   "metadata": {},
   "source": [
    "Notebook to help make decision to either pay off student loans in June 2025 and put payments towards a new deck in 3-5 years or keep paying student loans and get deck now."
   ]
  },
  {
   "cell_type": "markdown",
   "id": "baa61e5e",
   "metadata": {
    "vscode": {
     "languageId": "plaintext"
    }
   },
   "source": [
    "Pay student loans now"
   ]
  },
  {
   "cell_type": "code",
   "execution_count": 23,
   "id": "fc56b867",
   "metadata": {},
   "outputs": [],
   "source": [
    "starting_balance = 0\n",
    "interest_rate = .04/12\n",
    "monthly_savings_1 = 450\n",
    "months_1 = 12\n",
    "monthly_savings_2 = 600\n",
    "total_months = 60"
   ]
  },
  {
   "cell_type": "code",
   "execution_count": 24,
   "id": "f6b126f2",
   "metadata": {},
   "outputs": [],
   "source": [
    "# list(map(lambda x, y....)) \n",
    "# interest_rate/12 * balance\n",
    "# monthly_balance_1 = [i * monthly_savings_1 for i in range(months_1)]\n",
    "monthly_balance_1 = [0]\n",
    "for i, x in enumerate(range(total_months)):\n",
    "    if i > (months_1 - 1):\n",
    "        monthly_balance_1.append(round(\n",
    "        (monthly_balance_1[-1] + monthly_savings_1 + monthly_savings_2) * (1 + interest_rate)**1,2))\n",
    "    else:\n",
    "        monthly_balance_1.append(round(\n",
    "            (monthly_balance_1[-1] + monthly_savings_1) * (1 + interest_rate)**1,2))\n",
    "    \n",
    "\n",
    "\n",
    "monthly_balance_2 = [i * (monthly_savings_1 + monthly_savings_2) for i in range(months_1,total_months)]\n",
    "\n",
    "monthly_balances = monthly_balance_1 + monthly_balance_2\n",
    "\n",
    "# months = [month.now() + 1 for i in range(total_months)]\n",
    "\n",
    "# balance_per_month = zip(monthly_balances,months)\n"
   ]
  },
  {
   "cell_type": "code",
   "execution_count": 25,
   "id": "399d4dfd",
   "metadata": {},
   "outputs": [
    {
     "data": {
      "text/plain": [
       "[0,\n",
       " 451.5,\n",
       " 904.51,\n",
       " 1359.03,\n",
       " 1815.06,\n",
       " 2272.61,\n",
       " 2731.69,\n",
       " 3192.3,\n",
       " 3654.44,\n",
       " 4118.12,\n",
       " 4583.35,\n",
       " 5050.13,\n",
       " 5518.46,\n",
       " 6590.35,\n",
       " 7665.82,\n",
       " 8744.87,\n",
       " 9827.52,\n",
       " 10913.78,\n",
       " 12003.66,\n",
       " 13097.17,\n",
       " 14194.33,\n",
       " 15295.14,\n",
       " 16399.62,\n",
       " 17507.79,\n",
       " 18619.65,\n",
       " 19735.22,\n",
       " 20854.5,\n",
       " 21977.52,\n",
       " 23104.28,\n",
       " 24234.79,\n",
       " 25369.07,\n",
       " 26507.13,\n",
       " 27648.99,\n",
       " 28794.65,\n",
       " 29944.13,\n",
       " 31097.44,\n",
       " 32254.6,\n",
       " 33415.62,\n",
       " 34580.51,\n",
       " 35749.28,\n",
       " 36921.94,\n",
       " 38098.51,\n",
       " 39279.01,\n",
       " 40463.44,\n",
       " 41651.82,\n",
       " 42844.16,\n",
       " 44040.47,\n",
       " 45240.77,\n",
       " 46445.07,\n",
       " 47653.39,\n",
       " 48865.73,\n",
       " 50082.12,\n",
       " 51302.56,\n",
       " 52527.07,\n",
       " 53755.66,\n",
       " 54988.35,\n",
       " 56225.14,\n",
       " 57466.06,\n",
       " 58711.11,\n",
       " 59960.31,\n",
       " 61213.68]"
      ]
     },
     "execution_count": 25,
     "metadata": {},
     "output_type": "execute_result"
    }
   ],
   "source": [
    "monthly_balance_1"
   ]
  },
  {
   "cell_type": "code",
   "execution_count": 49,
   "id": "b6e349d2",
   "metadata": {},
   "outputs": [],
   "source": [
    "dates = [i for i in range(total_months)]"
   ]
  },
  {
   "cell_type": "code",
   "execution_count": 56,
   "id": "eedd0b07",
   "metadata": {},
   "outputs": [
    {
     "name": "stdout",
     "output_type": "stream",
     "text": [
      "Collecting matplotlib\n",
      "  Downloading matplotlib-3.10.3-cp312-cp312-manylinux_2_17_x86_64.manylinux2014_x86_64.whl.metadata (11 kB)\n",
      "Collecting contourpy>=1.0.1 (from matplotlib)\n",
      "  Downloading contourpy-1.3.2-cp312-cp312-manylinux_2_17_x86_64.manylinux2014_x86_64.whl.metadata (5.5 kB)\n",
      "Collecting cycler>=0.10 (from matplotlib)\n",
      "  Downloading cycler-0.12.1-py3-none-any.whl.metadata (3.8 kB)\n",
      "Collecting fonttools>=4.22.0 (from matplotlib)\n",
      "  Downloading fonttools-4.58.2-cp312-cp312-manylinux_2_5_x86_64.manylinux1_x86_64.manylinux_2_17_x86_64.manylinux2014_x86_64.whl.metadata (106 kB)\n",
      "Collecting kiwisolver>=1.3.1 (from matplotlib)\n",
      "  Downloading kiwisolver-1.4.8-cp312-cp312-manylinux_2_17_x86_64.manylinux2014_x86_64.whl.metadata (6.2 kB)\n",
      "Collecting numpy>=1.23 (from matplotlib)\n",
      "  Downloading numpy-2.3.0-cp312-cp312-manylinux_2_28_x86_64.whl.metadata (62 kB)\n",
      "Requirement already satisfied: packaging>=20.0 in /home/scott/repos/javascript-exercises/.venv/lib/python3.12/site-packages (from matplotlib) (25.0)\n",
      "Collecting pillow>=8 (from matplotlib)\n",
      "  Downloading pillow-11.2.1-cp312-cp312-manylinux_2_28_x86_64.whl.metadata (8.9 kB)\n",
      "Collecting pyparsing>=2.3.1 (from matplotlib)\n",
      "  Using cached pyparsing-3.2.3-py3-none-any.whl.metadata (5.0 kB)\n",
      "Requirement already satisfied: python-dateutil>=2.7 in /home/scott/repos/javascript-exercises/.venv/lib/python3.12/site-packages (from matplotlib) (2.9.0.post0)\n",
      "Requirement already satisfied: six>=1.5 in /home/scott/repos/javascript-exercises/.venv/lib/python3.12/site-packages (from python-dateutil>=2.7->matplotlib) (1.17.0)\n",
      "Downloading matplotlib-3.10.3-cp312-cp312-manylinux_2_17_x86_64.manylinux2014_x86_64.whl (8.6 MB)\n",
      "\u001b[2K   \u001b[90m━━━━━━━━━━━━━━━━━━━━━━━━━━━━━━━━━━━━━━━━\u001b[0m \u001b[32m8.6/8.6 MB\u001b[0m \u001b[31m15.8 MB/s\u001b[0m eta \u001b[36m0:00:00\u001b[0ma \u001b[36m0:00:01\u001b[0m\n",
      "\u001b[?25hDownloading contourpy-1.3.2-cp312-cp312-manylinux_2_17_x86_64.manylinux2014_x86_64.whl (323 kB)\n",
      "Downloading cycler-0.12.1-py3-none-any.whl (8.3 kB)\n",
      "Downloading fonttools-4.58.2-cp312-cp312-manylinux_2_5_x86_64.manylinux1_x86_64.manylinux_2_17_x86_64.manylinux2014_x86_64.whl (4.9 MB)\n",
      "\u001b[2K   \u001b[90m━━━━━━━━━━━━━━━━━━━━━━━━━━━━━━━━━━━━━━━━\u001b[0m \u001b[32m4.9/4.9 MB\u001b[0m \u001b[31m24.0 MB/s\u001b[0m eta \u001b[36m0:00:00\u001b[0ma \u001b[36m0:00:01\u001b[0m\n",
      "\u001b[?25hDownloading kiwisolver-1.4.8-cp312-cp312-manylinux_2_17_x86_64.manylinux2014_x86_64.whl (1.5 MB)\n",
      "\u001b[2K   \u001b[90m━━━━━━━━━━━━━━━━━━━━━━━━━━━━━━━━━━━━━━━━\u001b[0m \u001b[32m1.5/1.5 MB\u001b[0m \u001b[31m30.4 MB/s\u001b[0m eta \u001b[36m0:00:00\u001b[0m\n",
      "\u001b[?25hDownloading numpy-2.3.0-cp312-cp312-manylinux_2_28_x86_64.whl (16.6 MB)\n",
      "\u001b[2K   \u001b[90m━━━━━━━━━━━━━━━━━━━━━━━━━━━━━━━━━━━━━━━━\u001b[0m \u001b[32m16.6/16.6 MB\u001b[0m \u001b[31m37.5 MB/s\u001b[0m eta \u001b[36m0:00:00\u001b[0ma \u001b[36m0:00:01\u001b[0m\n",
      "\u001b[?25hDownloading pillow-11.2.1-cp312-cp312-manylinux_2_28_x86_64.whl (4.6 MB)\n",
      "\u001b[2K   \u001b[90m━━━━━━━━━━━━━━━━━━━━━━━━━━━━━━━━━━━━━━━━\u001b[0m \u001b[32m4.6/4.6 MB\u001b[0m \u001b[31m19.7 MB/s\u001b[0m eta \u001b[36m0:00:00\u001b[0ma \u001b[36m0:00:01\u001b[0m\n",
      "\u001b[?25hUsing cached pyparsing-3.2.3-py3-none-any.whl (111 kB)\n",
      "Installing collected packages: pyparsing, pillow, numpy, kiwisolver, fonttools, cycler, contourpy, matplotlib\n",
      "\u001b[2K   \u001b[90m━━━━━━━━━━━━━━━━━━━━━━━━━━━━━━━━━━━━━━━━\u001b[0m \u001b[32m8/8\u001b[0m [matplotlib]8\u001b[0m [matplotlib]\n",
      "\u001b[1A\u001b[2KSuccessfully installed contourpy-1.3.2 cycler-0.12.1 fonttools-4.58.2 kiwisolver-1.4.8 matplotlib-3.10.3 numpy-2.3.0 pillow-11.2.1 pyparsing-3.2.3\n",
      "Note: you may need to restart the kernel to use updated packages.\n"
     ]
    }
   ],
   "source": [
    "%pip install matplotlib\n",
    "import matplotlib.pyplot as plt"
   ]
  },
  {
   "cell_type": "code",
   "execution_count": 72,
   "id": "803b8a67",
   "metadata": {},
   "outputs": [
    {
     "data": {
      "text/plain": [
       "<matplotlib.lines.AxLine at 0x7d926334f4a0>"
      ]
     },
     "execution_count": 72,
     "metadata": {},
     "output_type": "execute_result"
    },
    {
     "data": {
      "image/png": "[encoded data removed]",
      "text/plain": [
       "<Figure size 640x480 with 1 Axes>"
      ]
     },
     "metadata": {},
     "output_type": "display_data"
    }
   ],
   "source": [
    "plt.plot(dates,monthly_balance_1[:-1])\n",
    "plt.axline((0,25000),(60,25000),ls=\"dotted\")"
   ]
  },
  {
   "cell_type": "code",
   "execution_count": null,
   "id": "903365bd",
   "metadata": {},
   "outputs": [],
   "source": []
  }
 ],
 "metadata": {
  "kernelspec": {
   "display_name": ".venv",
   "language": "python",
   "name": "python3"
  },
  "language_info": {
   "codemirror_mode": {
    "name": "ipython",
    "version": 3
   },
   "file_extension": ".py",
   "mimetype": "text/x-python",
   "name": "python",
   "nbconvert_exporter": "python",
   "pygments_lexer": "ipython3",
   "version": "3.12.3"
  }
 },
 "nbformat": 4,
 "nbformat_minor": 5
}
