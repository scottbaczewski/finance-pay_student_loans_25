{
 "cells": [
  {
   "cell_type": "markdown",
   "id": "48fb58f4",
   "metadata": {},
   "source": [
    "Notebook to help make decision to either pay off student loans in June 2025 and put payments towards a new deck in 3-5 years or keep paying student loans and get deck now."
   ]
  },
  {
   "cell_type": "markdown",
   "id": "baa61e5e",
   "metadata": {
    "vscode": {
     "languageId": "plaintext"
    }
   },
   "source": [
    "Pay student loans now"
   ]
  },
  {
   "cell_type": "code",
   "execution_count": null,
   "id": "fc56b867",
   "metadata": {
    "vscode": {
     "languageId": "plaintext"
    }
   },
   "outputs": [],
   "source": [
    "starting_balance = 0\n",
    "monthly_savings_1 = 450\n",
    "months_1 = 12\n",
    "monthly_savings_2 = 600\n",
    "total_months = 60"
   ]
  },
  {
   "cell_type": "code",
   "execution_count": null,
   "id": "f6b126f2",
   "metadata": {
    "vscode": {
     "languageId": "plaintext"
    }
   },
   "outputs": [],
   "source": [
    "monthly_balance_1 = [i * monthly_savings_1 for i in range(months_1)]\n",
    "\n",
    "monthly_balance_2 = [i * (monthly_savings_1 + monthly_savings_2) for i in range(months_1,total_months)]\n",
    "\n",
    "monthly_balances = monthly_balance_1 + monthly_balance_2\n",
    "\n",
    "months = [month.now() + 1 for i in range(total_months)]\n",
    "\n",
    "balance_per_month = zip(monthly_balances,months)\n"
   ]
  }
 ],
 "metadata": {
  "language_info": {
   "name": "python"
  }
 },
 "nbformat": 4,
 "nbformat_minor": 5
}
