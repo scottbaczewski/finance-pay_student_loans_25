{
 "cells": [
  {
   "cell_type": "markdown",
   "id": "48fb58f4",
   "metadata": {},
   "source": [
    "Notebook to help make decision to either pay off student loans in June 2025 and put payments towards a new deck in 3-5 years or keep paying student loans and get deck now."
   ]
  },
  {
   "cell_type": "markdown",
   "id": "baa61e5e",
   "metadata": {
    "vscode": {
     "languageId": "plaintext"
    }
   },
   "source": [
    "Pay student loans now"
   ]
  },
  {
   "cell_type": "code",
   "execution_count": 5,
   "id": "fc56b867",
   "metadata": {},
   "outputs": [],
   "source": [
    "starting_balance = 0\n",
    "interest_rate = .004\n",
    "monthly_savings_1 = 450\n",
    "months_1 = 12\n",
    "monthly_savings_2 = 600\n",
    "total_months = 60"
   ]
  },
  {
   "cell_type": "code",
   "execution_count": null,
   "id": "f6b126f2",
   "metadata": {},
   "outputs": [
    {
     "ename": "TypeError",
     "evalue": "<lambda>() missing 1 required positional argument: 'y'",
     "output_type": "error",
     "traceback": [
      "\u001b[31m---------------------------------------------------------------------------\u001b[39m",
      "\u001b[31mTypeError\u001b[39m                                 Traceback (most recent call last)",
      "\u001b[36mCell\u001b[39m\u001b[36m \u001b[39m\u001b[32mIn[8]\u001b[39m\u001b[32m, line 1\u001b[39m\n\u001b[32m----> \u001b[39m\u001b[32m1\u001b[39m monthly_balance_1 = \u001b[38;5;28;43mlist\u001b[39;49m\u001b[43m(\u001b[49m\u001b[38;5;28;43mmap\u001b[39;49m\u001b[43m(\u001b[49m\u001b[38;5;28;43;01mlambda\u001b[39;49;00m\u001b[43m \u001b[49m\u001b[43mx\u001b[49m\u001b[43m,\u001b[49m\u001b[43m \u001b[49m\u001b[43my\u001b[49m\u001b[43m:\u001b[49m\u001b[43m \u001b[49m\u001b[43mx\u001b[49m\u001b[43m \u001b[49m\u001b[43m+\u001b[49m\u001b[43m \u001b[49m\u001b[43m(\u001b[49m\u001b[43my\u001b[49m\u001b[43m \u001b[49m\u001b[43m*\u001b[49m\u001b[43m \u001b[49m\u001b[43mi\u001b[49m\u001b[43m \u001b[49m\u001b[38;5;28;43;01mfor\u001b[39;49;00m\u001b[43m \u001b[49m\u001b[43mi\u001b[49m\u001b[43m \u001b[49m\u001b[38;5;129;43;01min\u001b[39;49;00m\u001b[43m \u001b[49m\u001b[43m(\u001b[49m\u001b[38;5;28;43mrange\u001b[39;49m\u001b[43m(\u001b[49m\u001b[43mmonths_1\u001b[49m\u001b[43m)\u001b[49m\u001b[43m \u001b[49m\u001b[43m*\u001b[49m\u001b[43m \u001b[49m\u001b[43m(\u001b[49m\u001b[43minterest_rate\u001b[49m\u001b[43m/\u001b[49m\u001b[32;43m12\u001b[39;49m\u001b[43m)\u001b[49m\u001b[43m)\u001b[49m\u001b[43m)\u001b[49m\u001b[43m,\u001b[49m\u001b[43m[\u001b[49m\u001b[43mi\u001b[49m\u001b[43m \u001b[49m\u001b[38;5;28;43;01mfor\u001b[39;49;00m\u001b[43m \u001b[49m\u001b[43mi\u001b[49m\u001b[43m \u001b[49m\u001b[38;5;129;43;01min\u001b[39;49;00m\u001b[43m \u001b[49m\u001b[38;5;28;43mrange\u001b[39;49m\u001b[43m(\u001b[49m\u001b[43mmonths_1\u001b[49m\u001b[43m)\u001b[49m\u001b[43m]\u001b[49m\u001b[43m)\u001b[49m\u001b[43m)\u001b[49m\n\u001b[32m      3\u001b[39m monthly_balance_2 = [i * (monthly_savings_1 + monthly_savings_2) \u001b[38;5;28;01mfor\u001b[39;00m i \u001b[38;5;129;01min\u001b[39;00m \u001b[38;5;28mrange\u001b[39m(months_1,total_months)]\n\u001b[32m      5\u001b[39m monthly_balances = monthly_balance_1 + monthly_balance_2\n",
      "\u001b[31mTypeError\u001b[39m: <lambda>() missing 1 required positional argument: 'y'"
     ]
    }
   ],
   "source": [
    "# list(map(lambda x, y....)) \n",
    "# interest_rate/12 * balance\n",
    "monthly_balance_1 = [i * monthly_savings_1 for i in range(months_1)]\n",
    "\n",
    "monthly_balance_2 = [i * (monthly_savings_1 + monthly_savings_2) for i in range(months_1,total_months)]\n",
    "\n",
    "monthly_balances = monthly_balance_1 + monthly_balance_2\n",
    "\n",
    "# months = [month.now() + 1 for i in range(total_months)]\n",
    "\n",
    "# balance_per_month = zip(monthly_balances,months)\n"
   ]
  },
  {
   "cell_type": "code",
   "execution_count": 4,
   "id": "399d4dfd",
   "metadata": {},
   "outputs": [
    {
     "data": {
      "text/plain": [
       "[0,\n",
       " 450,\n",
       " 900,\n",
       " 1350,\n",
       " 1800,\n",
       " 2250,\n",
       " 2700,\n",
       " 3150,\n",
       " 3600,\n",
       " 4050,\n",
       " 4500,\n",
       " 4950,\n",
       " 12600,\n",
       " 13650,\n",
       " 14700,\n",
       " 15750,\n",
       " 16800,\n",
       " 17850,\n",
       " 18900,\n",
       " 19950,\n",
       " 21000,\n",
       " 22050,\n",
       " 23100,\n",
       " 24150,\n",
       " 25200,\n",
       " 26250,\n",
       " 27300,\n",
       " 28350,\n",
       " 29400,\n",
       " 30450,\n",
       " 31500,\n",
       " 32550,\n",
       " 33600,\n",
       " 34650,\n",
       " 35700,\n",
       " 36750,\n",
       " 37800,\n",
       " 38850,\n",
       " 39900,\n",
       " 40950,\n",
       " 42000,\n",
       " 43050,\n",
       " 44100,\n",
       " 45150,\n",
       " 46200,\n",
       " 47250,\n",
       " 48300,\n",
       " 49350,\n",
       " 50400,\n",
       " 51450,\n",
       " 52500,\n",
       " 53550,\n",
       " 54600,\n",
       " 55650,\n",
       " 56700,\n",
       " 57750,\n",
       " 58800,\n",
       " 59850,\n",
       " 60900,\n",
       " 61950]"
      ]
     },
     "execution_count": 4,
     "metadata": {},
     "output_type": "execute_result"
    }
   ],
   "source": [
    "monthly_balances"
   ]
  },
  {
   "cell_type": "code",
   "execution_count": null,
   "id": "c59e9850",
   "metadata": {},
   "outputs": [],
   "source": []
  }
 ],
 "metadata": {
  "kernelspec": {
   "display_name": ".venv",
   "language": "python",
   "name": "python3"
  },
  "language_info": {
   "codemirror_mode": {
    "name": "ipython",
    "version": 3
   },
   "file_extension": ".py",
   "mimetype": "text/x-python",
   "name": "python",
   "nbconvert_exporter": "python",
   "pygments_lexer": "ipython3",
   "version": "3.12.3"
  }
 },
 "nbformat": 4,
 "nbformat_minor": 5
}
